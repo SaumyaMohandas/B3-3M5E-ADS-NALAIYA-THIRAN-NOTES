{
 "cells": [
  {
   "cell_type": "code",
   "execution_count": 1,
   "id": "da4726d2",
   "metadata": {},
   "outputs": [],
   "source": [
    "# l1 regularization techniques- Lasso Regression\n",
    "# l2 regularization techniques- Ridge Regression"
   ]
  },
  {
   "cell_type": "code",
   "execution_count": 2,
   "id": "68a4139a",
   "metadata": {},
   "outputs": [],
   "source": [
    "import numpy as np\n",
    "import pandas as pd"
   ]
  },
  {
   "cell_type": "code",
   "execution_count": 3,
   "id": "a78e463f",
   "metadata": {},
   "outputs": [
    {
     "data": {
      "text/html": [
       "<div>\n",
       "<style scoped>\n",
       "    .dataframe tbody tr th:only-of-type {\n",
       "        vertical-align: middle;\n",
       "    }\n",
       "\n",
       "    .dataframe tbody tr th {\n",
       "        vertical-align: top;\n",
       "    }\n",
       "\n",
       "    .dataframe thead th {\n",
       "        text-align: right;\n",
       "    }\n",
       "</style>\n",
       "<table border=\"1\" class=\"dataframe\">\n",
       "  <thead>\n",
       "    <tr style=\"text-align: right;\">\n",
       "      <th></th>\n",
       "      <th>R&amp;D Spend</th>\n",
       "      <th>Administration</th>\n",
       "      <th>Marketing Spend</th>\n",
       "      <th>State</th>\n",
       "      <th>Profit</th>\n",
       "    </tr>\n",
       "  </thead>\n",
       "  <tbody>\n",
       "    <tr>\n",
       "      <th>0</th>\n",
       "      <td>165349.20</td>\n",
       "      <td>136897.80</td>\n",
       "      <td>471784.10</td>\n",
       "      <td>New York</td>\n",
       "      <td>192261.83</td>\n",
       "    </tr>\n",
       "    <tr>\n",
       "      <th>1</th>\n",
       "      <td>162597.70</td>\n",
       "      <td>151377.59</td>\n",
       "      <td>443898.53</td>\n",
       "      <td>California</td>\n",
       "      <td>191792.06</td>\n",
       "    </tr>\n",
       "    <tr>\n",
       "      <th>2</th>\n",
       "      <td>153441.51</td>\n",
       "      <td>101145.55</td>\n",
       "      <td>407934.54</td>\n",
       "      <td>Florida</td>\n",
       "      <td>191050.39</td>\n",
       "    </tr>\n",
       "    <tr>\n",
       "      <th>3</th>\n",
       "      <td>144372.41</td>\n",
       "      <td>118671.85</td>\n",
       "      <td>383199.62</td>\n",
       "      <td>New York</td>\n",
       "      <td>182901.99</td>\n",
       "    </tr>\n",
       "    <tr>\n",
       "      <th>4</th>\n",
       "      <td>142107.34</td>\n",
       "      <td>91391.77</td>\n",
       "      <td>366168.42</td>\n",
       "      <td>Florida</td>\n",
       "      <td>166187.94</td>\n",
       "    </tr>\n",
       "  </tbody>\n",
       "</table>\n",
       "</div>"
      ],
      "text/plain": [
       "   R&D Spend  Administration  Marketing Spend       State     Profit\n",
       "0  165349.20       136897.80        471784.10    New York  192261.83\n",
       "1  162597.70       151377.59        443898.53  California  191792.06\n",
       "2  153441.51       101145.55        407934.54     Florida  191050.39\n",
       "3  144372.41       118671.85        383199.62    New York  182901.99\n",
       "4  142107.34        91391.77        366168.42     Florida  166187.94"
      ]
     },
     "execution_count": 3,
     "metadata": {},
     "output_type": "execute_result"
    }
   ],
   "source": [
    "df=pd.read_csv('50_Startups.csv')\n",
    "df.head()"
   ]
  },
  {
   "cell_type": "code",
   "execution_count": 4,
   "id": "bba3b3b0",
   "metadata": {},
   "outputs": [
    {
     "data": {
      "text/plain": [
       "(108, 5)"
      ]
     },
     "execution_count": 4,
     "metadata": {},
     "output_type": "execute_result"
    }
   ],
   "source": [
    "df.shape"
   ]
  },
  {
   "cell_type": "code",
   "execution_count": 5,
   "id": "a32206e2",
   "metadata": {},
   "outputs": [],
   "source": [
    "from sklearn.preprocessing import LabelEncoder\n",
    "le = LabelEncoder()"
   ]
  },
  {
   "cell_type": "code",
   "execution_count": 6,
   "id": "a042b69d",
   "metadata": {},
   "outputs": [],
   "source": [
    "df.State=le.fit_transform(df.State)"
   ]
  },
  {
   "cell_type": "code",
   "execution_count": 7,
   "id": "9c6517ec",
   "metadata": {},
   "outputs": [
    {
     "data": {
      "text/html": [
       "<div>\n",
       "<style scoped>\n",
       "    .dataframe tbody tr th:only-of-type {\n",
       "        vertical-align: middle;\n",
       "    }\n",
       "\n",
       "    .dataframe tbody tr th {\n",
       "        vertical-align: top;\n",
       "    }\n",
       "\n",
       "    .dataframe thead th {\n",
       "        text-align: right;\n",
       "    }\n",
       "</style>\n",
       "<table border=\"1\" class=\"dataframe\">\n",
       "  <thead>\n",
       "    <tr style=\"text-align: right;\">\n",
       "      <th></th>\n",
       "      <th>R&amp;D Spend</th>\n",
       "      <th>Administration</th>\n",
       "      <th>Marketing Spend</th>\n",
       "      <th>State</th>\n",
       "      <th>Profit</th>\n",
       "    </tr>\n",
       "  </thead>\n",
       "  <tbody>\n",
       "    <tr>\n",
       "      <th>0</th>\n",
       "      <td>165349.20</td>\n",
       "      <td>136897.80</td>\n",
       "      <td>471784.10</td>\n",
       "      <td>2</td>\n",
       "      <td>192261.83</td>\n",
       "    </tr>\n",
       "    <tr>\n",
       "      <th>1</th>\n",
       "      <td>162597.70</td>\n",
       "      <td>151377.59</td>\n",
       "      <td>443898.53</td>\n",
       "      <td>0</td>\n",
       "      <td>191792.06</td>\n",
       "    </tr>\n",
       "    <tr>\n",
       "      <th>2</th>\n",
       "      <td>153441.51</td>\n",
       "      <td>101145.55</td>\n",
       "      <td>407934.54</td>\n",
       "      <td>1</td>\n",
       "      <td>191050.39</td>\n",
       "    </tr>\n",
       "    <tr>\n",
       "      <th>3</th>\n",
       "      <td>144372.41</td>\n",
       "      <td>118671.85</td>\n",
       "      <td>383199.62</td>\n",
       "      <td>2</td>\n",
       "      <td>182901.99</td>\n",
       "    </tr>\n",
       "    <tr>\n",
       "      <th>4</th>\n",
       "      <td>142107.34</td>\n",
       "      <td>91391.77</td>\n",
       "      <td>366168.42</td>\n",
       "      <td>1</td>\n",
       "      <td>166187.94</td>\n",
       "    </tr>\n",
       "  </tbody>\n",
       "</table>\n",
       "</div>"
      ],
      "text/plain": [
       "   R&D Spend  Administration  Marketing Spend  State     Profit\n",
       "0  165349.20       136897.80        471784.10      2  192261.83\n",
       "1  162597.70       151377.59        443898.53      0  191792.06\n",
       "2  153441.51       101145.55        407934.54      1  191050.39\n",
       "3  144372.41       118671.85        383199.62      2  182901.99\n",
       "4  142107.34        91391.77        366168.42      1  166187.94"
      ]
     },
     "execution_count": 7,
     "metadata": {},
     "output_type": "execute_result"
    }
   ],
   "source": [
    "df.head()"
   ]
  },
  {
   "cell_type": "code",
   "execution_count": 8,
   "id": "2764baae",
   "metadata": {},
   "outputs": [
    {
     "data": {
      "text/html": [
       "<div>\n",
       "<style scoped>\n",
       "    .dataframe tbody tr th:only-of-type {\n",
       "        vertical-align: middle;\n",
       "    }\n",
       "\n",
       "    .dataframe tbody tr th {\n",
       "        vertical-align: top;\n",
       "    }\n",
       "\n",
       "    .dataframe thead th {\n",
       "        text-align: right;\n",
       "    }\n",
       "</style>\n",
       "<table border=\"1\" class=\"dataframe\">\n",
       "  <thead>\n",
       "    <tr style=\"text-align: right;\">\n",
       "      <th></th>\n",
       "      <th>R&amp;D Spend</th>\n",
       "      <th>Administration</th>\n",
       "      <th>Marketing Spend</th>\n",
       "      <th>State</th>\n",
       "    </tr>\n",
       "  </thead>\n",
       "  <tbody>\n",
       "    <tr>\n",
       "      <th>0</th>\n",
       "      <td>165349.20</td>\n",
       "      <td>136897.80</td>\n",
       "      <td>471784.10</td>\n",
       "      <td>2</td>\n",
       "    </tr>\n",
       "    <tr>\n",
       "      <th>1</th>\n",
       "      <td>162597.70</td>\n",
       "      <td>151377.59</td>\n",
       "      <td>443898.53</td>\n",
       "      <td>0</td>\n",
       "    </tr>\n",
       "    <tr>\n",
       "      <th>2</th>\n",
       "      <td>153441.51</td>\n",
       "      <td>101145.55</td>\n",
       "      <td>407934.54</td>\n",
       "      <td>1</td>\n",
       "    </tr>\n",
       "    <tr>\n",
       "      <th>3</th>\n",
       "      <td>144372.41</td>\n",
       "      <td>118671.85</td>\n",
       "      <td>383199.62</td>\n",
       "      <td>2</td>\n",
       "    </tr>\n",
       "    <tr>\n",
       "      <th>4</th>\n",
       "      <td>142107.34</td>\n",
       "      <td>91391.77</td>\n",
       "      <td>366168.42</td>\n",
       "      <td>1</td>\n",
       "    </tr>\n",
       "  </tbody>\n",
       "</table>\n",
       "</div>"
      ],
      "text/plain": [
       "   R&D Spend  Administration  Marketing Spend  State\n",
       "0  165349.20       136897.80        471784.10      2\n",
       "1  162597.70       151377.59        443898.53      0\n",
       "2  153441.51       101145.55        407934.54      1\n",
       "3  144372.41       118671.85        383199.62      2\n",
       "4  142107.34        91391.77        366168.42      1"
      ]
     },
     "execution_count": 8,
     "metadata": {},
     "output_type": "execute_result"
    }
   ],
   "source": [
    "X= df.drop(columns=['Profit'],axis=1)\n",
    "X.head()"
   ]
  },
  {
   "cell_type": "code",
   "execution_count": 9,
   "id": "daa658f6",
   "metadata": {},
   "outputs": [
    {
     "data": {
      "text/plain": [
       "0    192261.83\n",
       "1    191792.06\n",
       "2    191050.39\n",
       "3    182901.99\n",
       "4    166187.94\n",
       "Name: Profit, dtype: float64"
      ]
     },
     "execution_count": 9,
     "metadata": {},
     "output_type": "execute_result"
    }
   ],
   "source": [
    "y = df.Profit\n",
    "y.head()"
   ]
  },
  {
   "cell_type": "code",
   "execution_count": 10,
   "id": "5ad49b3e",
   "metadata": {},
   "outputs": [],
   "source": [
    "from sklearn.preprocessing import MinMaxScaler\n",
    "scalar=MinMaxScaler()"
   ]
  },
  {
   "cell_type": "code",
   "execution_count": 11,
   "id": "6e7ce53e",
   "metadata": {},
   "outputs": [
    {
     "data": {
      "text/html": [
       "<div>\n",
       "<style scoped>\n",
       "    .dataframe tbody tr th:only-of-type {\n",
       "        vertical-align: middle;\n",
       "    }\n",
       "\n",
       "    .dataframe tbody tr th {\n",
       "        vertical-align: top;\n",
       "    }\n",
       "\n",
       "    .dataframe thead th {\n",
       "        text-align: right;\n",
       "    }\n",
       "</style>\n",
       "<table border=\"1\" class=\"dataframe\">\n",
       "  <thead>\n",
       "    <tr style=\"text-align: right;\">\n",
       "      <th></th>\n",
       "      <th>R&amp;D Spend</th>\n",
       "      <th>Administration</th>\n",
       "      <th>Marketing Spend</th>\n",
       "      <th>State</th>\n",
       "    </tr>\n",
       "  </thead>\n",
       "  <tbody>\n",
       "    <tr>\n",
       "      <th>0</th>\n",
       "      <td>1.000000</td>\n",
       "      <td>0.651744</td>\n",
       "      <td>1.000000</td>\n",
       "      <td>1.0</td>\n",
       "    </tr>\n",
       "    <tr>\n",
       "      <th>1</th>\n",
       "      <td>0.983359</td>\n",
       "      <td>0.761972</td>\n",
       "      <td>0.940893</td>\n",
       "      <td>0.0</td>\n",
       "    </tr>\n",
       "    <tr>\n",
       "      <th>2</th>\n",
       "      <td>0.927985</td>\n",
       "      <td>0.379579</td>\n",
       "      <td>0.864664</td>\n",
       "      <td>0.5</td>\n",
       "    </tr>\n",
       "    <tr>\n",
       "      <th>3</th>\n",
       "      <td>0.873136</td>\n",
       "      <td>0.512998</td>\n",
       "      <td>0.812235</td>\n",
       "      <td>1.0</td>\n",
       "    </tr>\n",
       "    <tr>\n",
       "      <th>4</th>\n",
       "      <td>0.859438</td>\n",
       "      <td>0.305328</td>\n",
       "      <td>0.776136</td>\n",
       "      <td>0.5</td>\n",
       "    </tr>\n",
       "  </tbody>\n",
       "</table>\n",
       "</div>"
      ],
      "text/plain": [
       "   R&D Spend  Administration  Marketing Spend  State\n",
       "0   1.000000        0.651744         1.000000    1.0\n",
       "1   0.983359        0.761972         0.940893    0.0\n",
       "2   0.927985        0.379579         0.864664    0.5\n",
       "3   0.873136        0.512998         0.812235    1.0\n",
       "4   0.859438        0.305328         0.776136    0.5"
      ]
     },
     "execution_count": 11,
     "metadata": {},
     "output_type": "execute_result"
    }
   ],
   "source": [
    "X_scaled=pd.DataFrame(scalar.fit_transform(X),columns=X.columns)\n",
    "X_scaled.head()"
   ]
  },
  {
   "cell_type": "code",
   "execution_count": 13,
   "id": "5db03889",
   "metadata": {},
   "outputs": [],
   "source": [
    "from sklearn.model_selection import train_test_split\n",
    "x_train,x_test,y_train,y_test=train_test_split(X_scaled,y,test_size=0.2,random_state=1)"
   ]
  },
  {
   "cell_type": "code",
   "execution_count": 14,
   "id": "68b4e63e",
   "metadata": {},
   "outputs": [
    {
     "data": {
      "text/plain": [
       "(86, 4)"
      ]
     },
     "execution_count": 14,
     "metadata": {},
     "output_type": "execute_result"
    }
   ],
   "source": [
    "x_train.shape"
   ]
  },
  {
   "cell_type": "code",
   "execution_count": 15,
   "id": "0669cf3d",
   "metadata": {},
   "outputs": [
    {
     "data": {
      "text/plain": [
       "(22, 4)"
      ]
     },
     "execution_count": 15,
     "metadata": {},
     "output_type": "execute_result"
    }
   ],
   "source": [
    "x_test.shape"
   ]
  },
  {
   "cell_type": "code",
   "execution_count": 16,
   "id": "2fc8c4d9",
   "metadata": {},
   "outputs": [],
   "source": [
    "from sklearn.linear_model import Ridge"
   ]
  },
  {
   "cell_type": "code",
   "execution_count": 17,
   "id": "ace20cb3",
   "metadata": {},
   "outputs": [],
   "source": [
    "r=Ridge()"
   ]
  },
  {
   "cell_type": "code",
   "execution_count": 18,
   "id": "bbe1ae44",
   "metadata": {},
   "outputs": [
    {
     "data": {
      "text/plain": [
       "Ridge()"
      ]
     },
     "execution_count": 18,
     "metadata": {},
     "output_type": "execute_result"
    }
   ],
   "source": [
    "r.fit(x_train,y_train)"
   ]
  },
  {
   "cell_type": "code",
   "execution_count": 36,
   "id": "d89959f4",
   "metadata": {},
   "outputs": [
    {
     "data": {
      "text/plain": [
       "array([128938.5046324 , 176979.29309609, 165342.13784147, 182972.32194291,\n",
       "       126495.39965377, 116689.2702612 ,  57970.81942831, 140651.85531533,\n",
       "        58099.6447174 , 121351.73214744, 108694.87050998, 170663.71552393,\n",
       "        58099.6447174 , 124215.89399843, 130375.69502591, 141698.9074917 ,\n",
       "       127903.16738832,  77853.49432376, 114306.13126963, 116689.2702612 ,\n",
       "       130375.69502591, 147254.65803551])"
      ]
     },
     "execution_count": 36,
     "metadata": {},
     "output_type": "execute_result"
    }
   ],
   "source": [
    "ridge_pred=r.predict(x_test)\n",
    "ridge_pred"
   ]
  },
  {
   "cell_type": "code",
   "execution_count": 38,
   "id": "b651d183",
   "metadata": {},
   "outputs": [
    {
     "data": {
      "text/plain": [
       "array([117682.74335894,  55342.94443976, 101869.05903689,  97099.08821588,\n",
       "        75190.98967051,  70076.08924777,  99192.16516652,  75285.97857641,\n",
       "       142252.66473248,  80742.68222677, 129895.69029966,  95130.94295339,\n",
       "        97946.77437244, 108694.87050998, 121351.73214744,  85477.58150927,\n",
       "        84052.66086523,  88133.24730107, 108805.58197231,  72033.52283072,\n",
       "        88133.24730107,  82414.32538157,  75190.98967051,  82030.50437688,\n",
       "        77853.49432376, 114306.13126963,  95171.54038964, 152288.96988651,\n",
       "       156747.70496601, 161502.86535409, 142252.66473248, 140651.85531533,\n",
       "       170663.71552393,  82665.04387383, 126495.39965377,  58771.41897261,\n",
       "       129895.69029966, 124215.89399843, 108805.58197231, 130375.69502591,\n",
       "        69272.86919386, 102587.0618291 , 111406.05118602,  99719.37198043,\n",
       "        80742.68222677,  57970.81942831, 121930.10529159, 165342.13784147,\n",
       "        98331.75498903,  55342.94443976,  70076.08924777, 147254.65803551,\n",
       "       121930.10529159, 182972.32194291, 145554.22581018, 127903.16738832,\n",
       "       118064.13460651, 118064.13460651, 111406.05118602, 152288.96988651,\n",
       "       140651.85531533, 124215.89399843, 102936.86144255, 161502.86535409,\n",
       "       142252.66473248, 102936.86144255, 102587.0618291 , 128938.5046324 ,\n",
       "        58771.41897261, 127903.16738832, 117682.74335894, 128938.5046324 ,\n",
       "       101401.40699462, 141698.9074917 ,  95130.94295339,  92544.762311  ,\n",
       "       176979.29309609, 116689.2702612 , 101401.40699462,  82414.32538157,\n",
       "       156747.70496601,  85477.58150927, 145554.22581018, 101869.05903689,\n",
       "       126495.39965377,  92544.762311  ])"
      ]
     },
     "execution_count": 38,
     "metadata": {},
     "output_type": "execute_result"
    }
   ],
   "source": [
    "ridge_pred_train = r.predict(x_train)\n",
    "ridge_pred_train"
   ]
  },
  {
   "cell_type": "code",
   "execution_count": null,
   "id": "7b39d0d3",
   "metadata": {},
   "outputs": [],
   "source": []
  },
  {
   "cell_type": "code",
   "execution_count": 21,
   "id": "f56ca892",
   "metadata": {},
   "outputs": [],
   "source": [
    "from sklearn.linear_model import Lasso"
   ]
  },
  {
   "cell_type": "code",
   "execution_count": 22,
   "id": "b13af4b3",
   "metadata": {},
   "outputs": [],
   "source": [
    "l=Lasso()"
   ]
  },
  {
   "cell_type": "code",
   "execution_count": 23,
   "id": "82f7c16f",
   "metadata": {},
   "outputs": [
    {
     "data": {
      "text/plain": [
       "Lasso()"
      ]
     },
     "execution_count": 23,
     "metadata": {},
     "output_type": "execute_result"
    }
   ],
   "source": [
    "l.fit(x_train,y_train)"
   ]
  },
  {
   "cell_type": "code",
   "execution_count": 39,
   "id": "e42cf4e7",
   "metadata": {},
   "outputs": [
    {
     "data": {
      "text/plain": [
       "array([134252.95556388, 182130.39065807, 171722.80117119, 188584.59464343,\n",
       "       128502.5841758 , 115745.63087393,  51952.77044278, 146111.44859109,\n",
       "        57969.50513374, 115876.25386019, 116998.26275856, 178719.675717  ,\n",
       "        57969.50513374, 125236.88382486, 130282.97590516, 153869.57408432,\n",
       "       128711.89542969,  73412.82930324, 111124.61002218, 115745.63087393,\n",
       "       130282.97590516, 150312.12571022])"
      ]
     },
     "execution_count": 39,
     "metadata": {},
     "output_type": "execute_result"
    }
   ],
   "source": [
    "lasso_pred=l.predict(x_test)\n",
    "lasso_pred"
   ]
  },
  {
   "cell_type": "code",
   "execution_count": 40,
   "id": "41d8fa84",
   "metadata": {},
   "outputs": [
    {
     "data": {
      "text/plain": [
       "array([115660.5445472 ,  49837.09831451, 100085.24760725,  95193.34850358,\n",
       "        60318.592823  ,  66138.77726346,  99987.71547136,  69070.44460651,\n",
       "       146680.7135205 ,  76337.54851402, 135071.30938151,  99191.64210192,\n",
       "        91432.14408213, 116998.26275856, 115876.25386019,  78106.94099846,\n",
       "        80562.29981063,  86078.13706713, 110830.00264868,  69307.44724153,\n",
       "        86078.13706713,  76563.04578035,  60318.592823  ,  75705.52737644,\n",
       "        73412.82930324, 111124.61002218,  88542.25990828, 156709.81797926,\n",
       "       162894.74989675, 169745.2994421 , 146680.7135205 , 146111.44859109,\n",
       "       178719.675717  ,  79117.3577237 , 128502.5841758 ,  54178.31339961,\n",
       "       135071.30938151, 125236.88382486, 110830.00264868, 130282.97590516,\n",
       "        65737.16320928, 101224.40461692, 116313.39708847, 102844.30991751,\n",
       "        76337.54851402,  51952.77044278, 117884.83947543, 171722.80117119,\n",
       "       101399.36783058,  49837.09831451,  66138.77726346, 150312.12571022,\n",
       "       117884.83947543, 188584.59464343, 151690.82083838, 128711.89542969,\n",
       "       114991.28704665, 114991.28704665, 116313.39708847, 156709.81797926,\n",
       "       146111.44859109, 125236.88382486, 103786.39936235, 169745.2994421 ,\n",
       "       146680.7135205 , 103786.39936235, 101224.40461692, 134252.95556388,\n",
       "        54178.31339961, 128711.89542969, 115660.5445472 , 134252.95556388,\n",
       "       101680.76463187, 153869.57408432,  99191.64210192,  92586.66589274,\n",
       "       182130.39065807, 115745.63087393, 101680.76463187,  76563.04578035,\n",
       "       162894.74989675,  78106.94099846, 151690.82083838, 100085.24760725,\n",
       "       128502.5841758 ,  92586.66589274])"
      ]
     },
     "execution_count": 40,
     "metadata": {},
     "output_type": "execute_result"
    }
   ],
   "source": [
    "lasso_pred_train = l.predict(x_train)\n",
    "lasso_pred_train"
   ]
  },
  {
   "cell_type": "code",
   "execution_count": 26,
   "id": "8e8a42a7",
   "metadata": {},
   "outputs": [
    {
     "data": {
      "text/plain": [
       "100    144259.40\n",
       "90     191792.06\n",
       "92     182901.99\n",
       "89     192261.83\n",
       "101    141585.52\n",
       "55     126992.93\n",
       "88      14681.40\n",
       "54     129917.04\n",
       "48      35673.41\n",
       "66     105008.31\n",
       "58     122776.86\n",
       "2      191050.39\n",
       "87      35673.41\n",
       "102    134307.35\n",
       "56     125370.37\n",
       "95     156122.51\n",
       "107    124266.90\n",
       "42      71498.49\n",
       "62     108733.99\n",
       "105    126992.93\n",
       "17     125370.37\n",
       "97     152211.77\n",
       "Name: Profit, dtype: float64"
      ]
     },
     "execution_count": 26,
     "metadata": {},
     "output_type": "execute_result"
    }
   ],
   "source": [
    "y_test"
   ]
  },
  {
   "cell_type": "code",
   "execution_count": 27,
   "id": "252dd23c",
   "metadata": {},
   "outputs": [
    {
     "data": {
      "text/html": [
       "<div>\n",
       "<style scoped>\n",
       "    .dataframe tbody tr th:only-of-type {\n",
       "        vertical-align: middle;\n",
       "    }\n",
       "\n",
       "    .dataframe tbody tr th {\n",
       "        vertical-align: top;\n",
       "    }\n",
       "\n",
       "    .dataframe thead th {\n",
       "        text-align: right;\n",
       "    }\n",
       "</style>\n",
       "<table border=\"1\" class=\"dataframe\">\n",
       "  <thead>\n",
       "    <tr style=\"text-align: right;\">\n",
       "      <th></th>\n",
       "      <th>Actual_y_value</th>\n",
       "      <th>Ridge_pred</th>\n",
       "      <th>Lasso_pred</th>\n",
       "    </tr>\n",
       "  </thead>\n",
       "  <tbody>\n",
       "    <tr>\n",
       "      <th>100</th>\n",
       "      <td>144259.40</td>\n",
       "      <td>128938.504632</td>\n",
       "      <td>134252.955564</td>\n",
       "    </tr>\n",
       "    <tr>\n",
       "      <th>90</th>\n",
       "      <td>191792.06</td>\n",
       "      <td>176979.293096</td>\n",
       "      <td>182130.390658</td>\n",
       "    </tr>\n",
       "    <tr>\n",
       "      <th>92</th>\n",
       "      <td>182901.99</td>\n",
       "      <td>165342.137841</td>\n",
       "      <td>171722.801171</td>\n",
       "    </tr>\n",
       "    <tr>\n",
       "      <th>89</th>\n",
       "      <td>192261.83</td>\n",
       "      <td>182972.321943</td>\n",
       "      <td>188584.594643</td>\n",
       "    </tr>\n",
       "    <tr>\n",
       "      <th>101</th>\n",
       "      <td>141585.52</td>\n",
       "      <td>126495.399654</td>\n",
       "      <td>128502.584176</td>\n",
       "    </tr>\n",
       "    <tr>\n",
       "      <th>55</th>\n",
       "      <td>126992.93</td>\n",
       "      <td>116689.270261</td>\n",
       "      <td>115745.630874</td>\n",
       "    </tr>\n",
       "    <tr>\n",
       "      <th>88</th>\n",
       "      <td>14681.40</td>\n",
       "      <td>57970.819428</td>\n",
       "      <td>51952.770443</td>\n",
       "    </tr>\n",
       "    <tr>\n",
       "      <th>54</th>\n",
       "      <td>129917.04</td>\n",
       "      <td>140651.855315</td>\n",
       "      <td>146111.448591</td>\n",
       "    </tr>\n",
       "    <tr>\n",
       "      <th>48</th>\n",
       "      <td>35673.41</td>\n",
       "      <td>58099.644717</td>\n",
       "      <td>57969.505134</td>\n",
       "    </tr>\n",
       "    <tr>\n",
       "      <th>66</th>\n",
       "      <td>105008.31</td>\n",
       "      <td>121351.732147</td>\n",
       "      <td>115876.253860</td>\n",
       "    </tr>\n",
       "  </tbody>\n",
       "</table>\n",
       "</div>"
      ],
      "text/plain": [
       "     Actual_y_value     Ridge_pred     Lasso_pred\n",
       "100       144259.40  128938.504632  134252.955564\n",
       "90        191792.06  176979.293096  182130.390658\n",
       "92        182901.99  165342.137841  171722.801171\n",
       "89        192261.83  182972.321943  188584.594643\n",
       "101       141585.52  126495.399654  128502.584176\n",
       "55        126992.93  116689.270261  115745.630874\n",
       "88         14681.40   57970.819428   51952.770443\n",
       "54        129917.04  140651.855315  146111.448591\n",
       "48         35673.41   58099.644717   57969.505134\n",
       "66        105008.31  121351.732147  115876.253860"
      ]
     },
     "execution_count": 27,
     "metadata": {},
     "output_type": "execute_result"
    }
   ],
   "source": [
    "profit=pd.DataFrame({'Actual_y_value':y_test,'Ridge_pred':ridge_pred,'Lasso_pred':lasso_pred})\n",
    "profit.head(10)"
   ]
  },
  {
   "cell_type": "code",
   "execution_count": null,
   "id": "8107cd95",
   "metadata": {},
   "outputs": [],
   "source": []
  },
  {
   "cell_type": "markdown",
   "id": "32321b76",
   "metadata": {},
   "source": [
    "# Evaluation Metrics for Regression"
   ]
  },
  {
   "cell_type": "code",
   "execution_count": null,
   "id": "9d7426d4",
   "metadata": {},
   "outputs": [],
   "source": [
    "## MSE- Mean square error\n",
    "\n",
    "## RMSE- Root Mean square error\n",
    "\n",
    "## R2-score"
   ]
  },
  {
   "cell_type": "code",
   "execution_count": 28,
   "id": "bc24fe05",
   "metadata": {},
   "outputs": [],
   "source": [
    "from sklearn import metrics"
   ]
  },
  {
   "cell_type": "code",
   "execution_count": 33,
   "id": "5abdfff1",
   "metadata": {},
   "outputs": [
    {
     "name": "stdout",
     "output_type": "stream",
     "text": [
      "256098039.44822857\n",
      "176077236.36707115\n"
     ]
    }
   ],
   "source": [
    "## mse\n",
    "\n",
    "print(metrics.mean_squared_error(y_test,ridge_pred))\n",
    "print(metrics.mean_squared_error(y_test,lasso_pred))"
   ]
  },
  {
   "cell_type": "code",
   "execution_count": 34,
   "id": "4ad4dc4b",
   "metadata": {},
   "outputs": [
    {
     "name": "stdout",
     "output_type": "stream",
     "text": [
      "16003.063439486472\n",
      "13269.409797239332\n"
     ]
    }
   ],
   "source": [
    "# RMSE\n",
    "\n",
    "print(np.sqrt(metrics.mean_squared_error(y_test,ridge_pred)))\n",
    "print(np.sqrt(metrics.mean_squared_error(y_test,lasso_pred)))"
   ]
  },
  {
   "cell_type": "code",
   "execution_count": 35,
   "id": "72167fdb",
   "metadata": {},
   "outputs": [
    {
     "name": "stdout",
     "output_type": "stream",
     "text": [
      "0.8891579480292655\n",
      "0.9237918328999641\n"
     ]
    }
   ],
   "source": [
    "## R2-score\n",
    "\n",
    "print(metrics.r2_score(y_test,ridge_pred))\n",
    "print(metrics.r2_score(y_test,lasso_pred))"
   ]
  },
  {
   "cell_type": "code",
   "execution_count": 41,
   "id": "e45e00fd",
   "metadata": {},
   "outputs": [
    {
     "name": "stdout",
     "output_type": "stream",
     "text": [
      "0.9135616159568721\n",
      "0.9342846515438199\n"
     ]
    }
   ],
   "source": [
    "# R2 score on Training data\n",
    "\n",
    "print(metrics.r2_score(y_train,ridge_pred_train))\n",
    "print(metrics.r2_score(y_train,lasso_pred_train))"
   ]
  },
  {
   "cell_type": "code",
   "execution_count": 42,
   "id": "76378694",
   "metadata": {},
   "outputs": [],
   "source": [
    "# training  accu:lasso- 0.9342846515438199\n",
    "# test accur:lasso- 0.9237918328999641"
   ]
  },
  {
   "cell_type": "code",
   "execution_count": null,
   "id": "0cafd9cf",
   "metadata": {},
   "outputs": [],
   "source": []
  },
  {
   "cell_type": "code",
   "execution_count": null,
   "id": "50f96caf",
   "metadata": {},
   "outputs": [],
   "source": []
  },
  {
   "cell_type": "code",
   "execution_count": null,
   "id": "1edc6a98",
   "metadata": {},
   "outputs": [],
   "source": []
  },
  {
   "cell_type": "code",
   "execution_count": null,
   "id": "6f67aa79",
   "metadata": {},
   "outputs": [],
   "source": []
  },
  {
   "cell_type": "code",
   "execution_count": null,
   "id": "31601bb5",
   "metadata": {},
   "outputs": [],
   "source": []
  }
 ],
 "metadata": {
  "kernelspec": {
   "display_name": "Python 3",
   "language": "python",
   "name": "python3"
  },
  "language_info": {
   "codemirror_mode": {
    "name": "ipython",
    "version": 3
   },
   "file_extension": ".py",
   "mimetype": "text/x-python",
   "name": "python",
   "nbconvert_exporter": "python",
   "pygments_lexer": "ipython3",
   "version": "3.8.8"
  }
 },
 "nbformat": 4,
 "nbformat_minor": 5
}
